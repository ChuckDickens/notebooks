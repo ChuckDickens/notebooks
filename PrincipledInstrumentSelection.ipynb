{
 "cells": [
  {
   "cell_type": "markdown",
   "metadata": {},
   "source": [
    "# ML for Causal Inference: High-Dimensional Instruments"
   ]
  },
  {
   "cell_type": "code",
   "execution_count": 66,
   "metadata": {},
   "outputs": [],
   "source": [
    "library(simstudy)\n",
    "library(glmnet)\n",
    "library(stats)\n",
    "library(ggplot2)\n",
    "library(AER)"
   ]
  },
  {
   "cell_type": "markdown",
   "metadata": {},
   "source": [
    "## Example: Weak First Stage and Exclusion Restriction Violation"
   ]
  },
  {
   "cell_type": "code",
   "execution_count": 67,
   "metadata": {},
   "outputs": [],
   "source": [
    "#Simulate Data\n",
    "set.seed(1)\n",
    "N <- 1e3 # Number of Observations\n",
    "# Simulate Data for Example in Intro\n",
    "weak <- rnorm(n = N)\n",
    "good <- rnorm(n = N)\n",
    "correl <- rnorm(n = N) \n",
    "C <- 3 * correl + rnorm(n = N)\n",
    "X <- -.000001 * round(weak) + 2.5 * correl + 2.5 * good + .5 * C + rnorm(n = N)\n",
    "Y <- 2.0 * X + 1.1 * C + rnorm(n = N)\n",
    "df <- cbind(Y, X, correl, good, weak)\n",
    "colnames(df) <- c('Y', 'X', 'correl', 'good', 'weak')\n",
    "df <- data.frame(df)"
   ]
  },
  {
   "cell_type": "code",
   "execution_count": 68,
   "metadata": {},
   "outputs": [
    {
     "data": {
      "text/plain": [
       "\n",
       "Call:\n",
       "lm(formula = Y ~ X, data = df)\n",
       "\n",
       "Residuals:\n",
       "    Min      1Q  Median      3Q     Max \n",
       "-7.3707 -1.3519  0.0967  1.4833  7.1721 \n",
       "\n",
       "Coefficients:\n",
       "            Estimate Std. Error t value Pr(>|t|)    \n",
       "(Intercept)  0.05197    0.07199   0.722    0.471    \n",
       "X            2.59080    0.01440 179.964   <2e-16 ***\n",
       "---\n",
       "Signif. codes:  0 '***' 0.001 '**' 0.01 '*' 0.05 '.' 0.1 ' ' 1\n",
       "\n",
       "Residual standard error: 2.276 on 998 degrees of freedom\n",
       "Multiple R-squared:  0.9701,\tAdjusted R-squared:  0.9701 \n",
       "F-statistic: 3.239e+04 on 1 and 998 DF,  p-value: < 2.2e-16\n"
      ]
     },
     "metadata": {},
     "output_type": "display_data"
    }
   ],
   "source": [
    "# No Instrument, naive regression\n",
    "fit.none <- lm(Y ~ X, data = df)\n",
    "summary(fit.none)\n",
    "X.none <- fit.none$coefficients[2]\n",
    "ci.none <- confint(fit.none, 'X', level = 0.95)"
   ]
  },
  {
   "cell_type": "code",
   "execution_count": 69,
   "metadata": {},
   "outputs": [
    {
     "data": {
      "text/plain": [
       "\n",
       "Call:\n",
       "ivreg(formula = Y ~ X | good, data = df)\n",
       "\n",
       "Residuals:\n",
       "      Min        1Q    Median        3Q       Max \n",
       "-12.17673  -2.46209  -0.01462   2.48840   9.03775 \n",
       "\n",
       "Coefficients:\n",
       "            Estimate Std. Error z value Pr(>|z|)    \n",
       "(Intercept)  0.05682    0.11246   0.505    0.613    \n",
       "X            2.04400    0.04075  50.155   <2e-16 ***\n",
       "\n",
       "Diagnostic tests:\n",
       "                 df1 df2 statistic p-value    \n",
       "Weak instruments   1 998     435.1  <2e-16 ***\n",
       "Wu-Hausman         1 997    1575.1  <2e-16 ***\n",
       "Sargan             0  NA        NA      NA    \n",
       "---\n",
       "Signif. codes:  0 '***' 0.001 '**' 0.01 '*' 0.05 '.' 0.1 ' ' 1\n",
       "\n",
       "Residual standard error: 3.56 on Inf degrees of freedom\n",
       "Multiple R-Squared: 0.9269,\tAdjusted R-squared: 0.9268 \n",
       "Wald test:  2516 on 1 DF,  p-value: < 2.2e-16 \n"
      ]
     },
     "metadata": {},
     "output_type": "display_data"
    }
   ],
   "source": [
    "# Fit using a good instrument (strong first stage and satisfies exclusion restriction)\n",
    "fit.good <- ivreg(Y ~ X | good, data = df)\n",
    "summary(fit.good, vcov = sandwich, df = Inf, diagnostics = TRUE)\n",
    "X.good <- fit.good$coefficients[2]\n",
    "ci.good <- confint(fit.good, 'X', level = 0.95)"
   ]
  },
  {
   "cell_type": "code",
   "execution_count": 70,
   "metadata": {},
   "outputs": [
    {
     "data": {
      "text/plain": [
       "\n",
       "Call:\n",
       "ivreg(formula = Y ~ X | weak, data = df)\n",
       "\n",
       "Residuals:\n",
       "       Min         1Q     Median         3Q        Max \n",
       "-10.124204  -1.801685   0.004844   1.857427   9.091541 \n",
       "\n",
       "Coefficients:\n",
       "            Estimate Std. Error z value Pr(>|z|)    \n",
       "(Intercept)  0.04916    0.08775   0.560    0.575    \n",
       "X            2.90671    0.47201   6.158 7.36e-10 ***\n",
       "\n",
       "Diagnostic tests:\n",
       "                 df1 df2 statistic p-value\n",
       "Weak instruments   1 998     1.520   0.218\n",
       "Wu-Hausman         1 997     0.698   0.404\n",
       "Sargan             0  NA        NA      NA\n",
       "\n",
       "Residual standard error: 2.772 on Inf degrees of freedom\n",
       "Multiple R-Squared: 0.9557,\tAdjusted R-squared: 0.9556 \n",
       "Wald test: 37.92 on 1 DF,  p-value: 7.363e-10 \n"
      ]
     },
     "metadata": {},
     "output_type": "display_data"
    }
   ],
   "source": [
    "# Fit using a weak instrument (satisfies exclusion restriction)\n",
    "fit.weak <- ivreg(Y ~ X | weak, data = df)\n",
    "summary(fit.weak, vcov = sandwich, df = Inf, diagnostics = TRUE)\n",
    "X.weak <- fit.weak$coefficients[2]\n",
    "ci.weak <- confint(fit.weak, 'X', level = 0.95)"
   ]
  },
  {
   "cell_type": "code",
   "execution_count": 71,
   "metadata": {},
   "outputs": [
    {
     "data": {
      "text/plain": [
       "\n",
       "Call:\n",
       "ivreg(formula = Y ~ X | correl, data = df)\n",
       "\n",
       "Residuals:\n",
       "     Min       1Q   Median       3Q      Max \n",
       "-9.51414 -1.64965 -0.05292  1.71357  8.66626 \n",
       "\n",
       "Coefficients:\n",
       "            Estimate Std. Error z value Pr(>|z|)    \n",
       "(Intercept)  0.04978    0.08177   0.609    0.543    \n",
       "X            2.83672    0.01954 145.181   <2e-16 ***\n",
       "\n",
       "Diagnostic tests:\n",
       "                 df1 df2 statistic p-value    \n",
       "Weak instruments   1 998      2201  <2e-16 ***\n",
       "Wu-Hausman         1 997      1593  <2e-16 ***\n",
       "Sargan             0  NA        NA      NA    \n",
       "---\n",
       "Signif. codes:  0 '***' 0.001 '**' 0.01 '*' 0.05 '.' 0.1 ' ' 1\n",
       "\n",
       "Residual standard error: 2.588 on Inf degrees of freedom\n",
       "Multiple R-Squared: 0.9614,\tAdjusted R-squared: 0.9613 \n",
       "Wald test: 2.108e+04 on 1 DF,  p-value: < 2.2e-16 \n"
      ]
     },
     "metadata": {},
     "output_type": "display_data"
    }
   ],
   "source": [
    "# Fit using an instrument that doesn't satisfy the exclusion restriction (but with a strong first stage)\n",
    "fit.correl <- ivreg(Y ~ X | correl, data = df)\n",
    "summary(fit.correl, vcov = sandwich, df = Inf, diagnostics = TRUE)\n",
    "X.correl <- fit.correl$coefficients[2]\n",
    "ci.correl <- confint(fit.correl, 'X', level = 0.95)"
   ]
  },
  {
   "cell_type": "code",
   "execution_count": 72,
   "metadata": {},
   "outputs": [
    {
     "name": "stderr",
     "output_type": "stream",
     "text": [
      "Warning message in data.row.names(row.names, rowsi, i):\n",
      "\"some row.names duplicated: 3,4,5 --> row.names NOT used\"Warning message:\n",
      "\"Removed 1 rows containing missing values (geom_errorbar).\""
     ]
    },
    {
     "data": {},
     "metadata": {},
     "output_type": "display_data"
    },
    {
     "data": {
      "image/png": "[encoded data removed]",
      "text/plain": [
       "plot without title"
      ]
     },
     "metadata": {},
     "output_type": "display_data"
    }
   ],
   "source": [
    "# Vector of T coefficients and confidence intervals\n",
    "coefs.ab <- c(2.0, X.good, X.none, X.weak, X.correl)\n",
    "ci.low <- c(NaN, ci.good[1], ci.none[1], ci.weak[1], ci.correl[1])\n",
    "ci.high <- c(NaN, ci.good[2], ci.none[2], ci.weak[2], ci.correl[2])\n",
    "dat <- cbind(coefs.ab, ci.low, ci.high, c('True Effect', 'Good Instrument', 'No Instrument', 'Weak Instrument', 'Failed Exclusion Restriction'))\n",
    "colnames(dat)[4] <- 'Model'\n",
    "dat <- data.frame(dat)\n",
    "dat$coefs.ab <- as.double(levels(dat$coefs.ab))[dat$coefs.ab]\n",
    "dat$ci.low <- as.double(levels(dat$ci.low))[dat$ci.low]\n",
    "dat$ci.high <- as.double(levels(dat$ci.high))[dat$ci.high]\n",
    "dat$Model <- factor(dat$Model, levels = dat$Model)\n",
    "\n",
    "# Create bar graph\n",
    "dodge <- position_dodge(width = 0.9)\n",
    "limits <- aes(ymax = dat$ci.high,\n",
    "              ymin = dat$ci.low)\n",
    "p <- ggplot(data = dat, aes(x = Model, y = coefs.ab, fill = Model))\n",
    "p + geom_bar(stat = \"identity\", position = dodge) +\n",
    "  geom_errorbar(limits, position = dodge, width = 0.25) +\n",
    "    ylab(\"Coefficient on X\") +\n",
    "    ggtitle(\"Estimated Causal Effect of X on Y\") +\n",
    "    theme(axis.title.x=element_blank(),\n",
    "        axis.text.x=element_blank(),\n",
    "        axis.ticks.x=element_blank())"
   ]
  },
  {
   "cell_type": "markdown",
   "metadata": {},
   "source": [
    "## LASSO for Instrument Selection"
   ]
  },
  {
   "cell_type": "code",
   "execution_count": 104,
   "metadata": {},
   "outputs": [],
   "source": [
    "rm(list=ls())\n",
    "invisible(gc()) # Clear workspace\n",
    "#Simulate Data\n",
    "set.seed(1)\n",
    "N <- 1e3 # Number of Observations\n",
    "p <- N + 30 # Number of instruments (excluding unobservable)\n",
    "# Generate matrix M of p randomly assigned AB tests\n",
    "M <- matrix(0, N, p)\n",
    "M[0:(N/2),] <- 1\n",
    "M <- apply(t(M), 1, function(d) sample(d, N))\n",
    "# Create an unobservable C that is a function of a few of our instruments\n",
    "beta.C <- rnorm(p, mean = 5, sd = 5)\n",
    "beta.C[21:p] <- 0\n",
    "C <- M %*% beta.C + rnorm(n = N)\n",
    "# Create X as a function of weak, good, instruments that don't satisfy the exclusion restriction, and C\n",
    "beta.X <- rnorm(p, mean = 5, sd = 5)\n",
    "beta.X[21:40] <- rnorm(20, mean = 0, sd = .0001)\n",
    "X <- M %*% beta.X - 10.0 * C + rnorm(n = N)\n",
    "# Create Y as a function of C and X\n",
    "Y <- 2.0 * X - 15.0 * C + rnorm(n = N)\n",
    "# Create data frames with and without variables that don't satisfy the exclusion restriction\n",
    "df.allM <- data.frame('Y' = Y, 'X' = X, 'M' = M)\n",
    "df.excl <- data.frame('Y' = Y, 'X' = X, 'M' = M[, 21:p])"
   ]
  },
  {
   "cell_type": "markdown",
   "metadata": {},
   "source": [
    "## LASSO X on M"
   ]
  },
  {
   "cell_type": "code",
   "execution_count": null,
   "metadata": {
    "collapsed": true
   },
   "outputs": [],
   "source": []
  },
  {
   "cell_type": "code",
   "execution_count": 105,
   "metadata": {},
   "outputs": [
    {
     "data": {
      "text/plain": [
       "\n",
       "Call:\n",
       "lm(formula = Y ~ X, data = df.allM)\n",
       "\n",
       "Residuals:\n",
       "    Min      1Q  Median      3Q     Max \n",
       "-480.19 -101.54    7.09   96.43  457.38 \n",
       "\n",
       "Coefficients:\n",
       "              Estimate Std. Error t value Pr(>|t|)    \n",
       "(Intercept) -2.851e+03  4.408e+01  -64.68   <2e-16 ***\n",
       "X            2.982e+00  2.154e-02  138.47   <2e-16 ***\n",
       "---\n",
       "Signif. codes:  0 '***' 0.001 '**' 0.01 '*' 0.05 '.' 0.1 ' ' 1\n",
       "\n",
       "Residual standard error: 141.8 on 998 degrees of freedom\n",
       "Multiple R-squared:  0.9505,\tAdjusted R-squared:  0.9505 \n",
       "F-statistic: 1.917e+04 on 1 and 998 DF,  p-value: < 2.2e-16\n"
      ]
     },
     "metadata": {},
     "output_type": "display_data"
    }
   ],
   "source": [
    "fit.noinst <- lm(Y ~ X, data = df.allM)\n",
    "summary(fit.noinst)"
   ]
  }
 ],
 "metadata": {
  "kernelspec": {
   "display_name": "R",
   "language": "R",
   "name": "ir"
  },
  "language_info": {
   "codemirror_mode": "r",
   "file_extension": ".r",
   "mimetype": "text/x-r-source",
   "name": "R",
   "pygments_lexer": "r",
   "version": "3.4.2"
  }
 },
 "nbformat": 4,
 "nbformat_minor": 2
}

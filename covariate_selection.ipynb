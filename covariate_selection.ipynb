{
 "cells": [
  {
   "cell_type": "markdown",
   "metadata": {},
   "source": [
    "# ML for Causal Inference: High-Dimensional Controls"
   ]
  },
  {
   "cell_type": "code",
   "execution_count": 11,
   "metadata": {
    "collapsed": true
   },
   "outputs": [],
   "source": [
    "library(simstudy)\n",
    "library(glmnet)\n",
    "library(rdd)"
   ]
  },
  {
   "cell_type": "markdown",
   "metadata": {},
   "source": [
    "## Simulate Data"
   ]
  },
  {
   "cell_type": "code",
   "execution_count": 12,
   "metadata": {
    "collapsed": false
   },
   "outputs": [],
   "source": [
    "set.seed(1)\n",
    "# Number of Observations\n",
    "N <- 1e3\n",
    "\n",
    "total.covar <- 50 + 1e3\n",
    "# Number of covariates (excluding W and unobservable)\n",
    "p <- total.covar - 2\n",
    "\n",
    "mu.vector <- rep(0, total.covar)\n",
    "variance.vector <- abs(rnorm(total.covar, mean = 1, sd = .5))\n",
    "simulated.data <- as.data.frame.matrix(genCorGen(n = N, nvars = total.covar, params1 = mu.vector, params2 = variance.vector, dist = 'normal',  rho = .5,\n",
    "                            corstr = 'ar1', wide='True'))[2:(total.covar+1)]\n",
    "colnames(simulated.data)[1] <- 'W'\n",
    "colnames(simulated.data)[total.covar] <- 'C'\n",
    "\n",
    "\n",
    "X <- simulated.data[, 2:(total.covar-1)]\n",
    "\n",
    "covariate.names <- colnames(X)\n",
    "\n",
    "error <- rnorm(n = N)\n",
    "\n",
    "# Make W a function of the X's and unobservable\n",
    "simulated.data$W <- simulated.data$W + .5 * simulated.data$C + 3 * simulated.data$V80 - 6 * simulated.data$V81\n",
    "# Assign treatment\n",
    "treated <- (simulated.data$W > 0) * 1.0\n",
    "\n",
    "\n",
    "# Generate Y as a function of treatment, W, X's, and unobservable C\n",
    "beta.true.linear <- rnorm(p, mean = 5, sd = 5)\n",
    "beta.true.linear[30:p] <- 0\n",
    "Y <- 1.2 * treated - 4 * simulated.data$W  + data.matrix(X) %*% beta.true.linear + .6 * simulated.data$C + error\n",
    "\n",
    "df <- cbind(Y, simulated.data)\n",
    "colnames(df)[1] <- 'Y'\n",
    "\n",
    "X.colnames <- colnames(X)"
   ]
  },
  {
   "cell_type": "markdown",
   "metadata": {},
   "source": [
    "## Use LASSO of Y on X to select H"
   ]
  },
  {
   "cell_type": "code",
   "execution_count": 13,
   "metadata": {
    "collapsed": false
   },
   "outputs": [
    {
     "data": {
      "text/html": [
       "<ol class=list-inline>\n",
       "\t<li>'V2'</li>\n",
       "\t<li>'V3'</li>\n",
       "\t<li>'V4'</li>\n",
       "\t<li>'V5'</li>\n",
       "\t<li>'V6'</li>\n",
       "\t<li>'V8'</li>\n",
       "\t<li>'V9'</li>\n",
       "\t<li>'V10'</li>\n",
       "\t<li>'V11'</li>\n",
       "\t<li>'V12'</li>\n",
       "\t<li>'V13'</li>\n",
       "\t<li>'V14'</li>\n",
       "\t<li>'V15'</li>\n",
       "\t<li>'V16'</li>\n",
       "\t<li>'V18'</li>\n",
       "\t<li>'V19'</li>\n",
       "\t<li>'V20'</li>\n",
       "\t<li>'V21'</li>\n",
       "\t<li>'V22'</li>\n",
       "\t<li>'V23'</li>\n",
       "\t<li>'V24'</li>\n",
       "\t<li>'V25'</li>\n",
       "\t<li>'V26'</li>\n",
       "\t<li>'V27'</li>\n",
       "\t<li>'V28'</li>\n",
       "\t<li>'V29'</li>\n",
       "\t<li>'V30'</li>\n",
       "\t<li>'V80'</li>\n",
       "\t<li>'V81'</li>\n",
       "\t<li>'V304'</li>\n",
       "\t<li>'V745'</li>\n",
       "\t<li>'V1049'</li>\n",
       "</ol>\n"
      ],
      "text/latex": [
       "\\begin{enumerate*}\n",
       "\\item 'V2'\n",
       "\\item 'V3'\n",
       "\\item 'V4'\n",
       "\\item 'V5'\n",
       "\\item 'V6'\n",
       "\\item 'V8'\n",
       "\\item 'V9'\n",
       "\\item 'V10'\n",
       "\\item 'V11'\n",
       "\\item 'V12'\n",
       "\\item 'V13'\n",
       "\\item 'V14'\n",
       "\\item 'V15'\n",
       "\\item 'V16'\n",
       "\\item 'V18'\n",
       "\\item 'V19'\n",
       "\\item 'V20'\n",
       "\\item 'V21'\n",
       "\\item 'V22'\n",
       "\\item 'V23'\n",
       "\\item 'V24'\n",
       "\\item 'V25'\n",
       "\\item 'V26'\n",
       "\\item 'V27'\n",
       "\\item 'V28'\n",
       "\\item 'V29'\n",
       "\\item 'V30'\n",
       "\\item 'V80'\n",
       "\\item 'V81'\n",
       "\\item 'V304'\n",
       "\\item 'V745'\n",
       "\\item 'V1049'\n",
       "\\end{enumerate*}\n"
      ],
      "text/markdown": [
       "1. 'V2'\n",
       "2. 'V3'\n",
       "3. 'V4'\n",
       "4. 'V5'\n",
       "5. 'V6'\n",
       "6. 'V8'\n",
       "7. 'V9'\n",
       "8. 'V10'\n",
       "9. 'V11'\n",
       "10. 'V12'\n",
       "11. 'V13'\n",
       "12. 'V14'\n",
       "13. 'V15'\n",
       "14. 'V16'\n",
       "15. 'V18'\n",
       "16. 'V19'\n",
       "17. 'V20'\n",
       "18. 'V21'\n",
       "19. 'V22'\n",
       "20. 'V23'\n",
       "21. 'V24'\n",
       "22. 'V25'\n",
       "23. 'V26'\n",
       "24. 'V27'\n",
       "25. 'V28'\n",
       "26. 'V29'\n",
       "27. 'V30'\n",
       "28. 'V80'\n",
       "29. 'V81'\n",
       "30. 'V304'\n",
       "31. 'V745'\n",
       "32. 'V1049'\n",
       "\n",
       "\n"
      ],
      "text/plain": [
       " [1] \"V2\"    \"V3\"    \"V4\"    \"V5\"    \"V6\"    \"V8\"    \"V9\"    \"V10\"   \"V11\"  \n",
       "[10] \"V12\"   \"V13\"   \"V14\"   \"V15\"   \"V16\"   \"V18\"   \"V19\"   \"V20\"   \"V21\"  \n",
       "[19] \"V22\"   \"V23\"   \"V24\"   \"V25\"   \"V26\"   \"V27\"   \"V28\"   \"V29\"   \"V30\"  \n",
       "[28] \"V80\"   \"V81\"   \"V304\"  \"V745\"  \"V1049\""
      ]
     },
     "metadata": {},
     "output_type": "display_data"
    }
   ],
   "source": [
    "lasso.fit.outcome <- cv.glmnet(data.matrix(X), df$Y, alpha=1)\n",
    "\n",
    "coef <- predict(lasso.fit.outcome, type = \"nonzero\")\n",
    "H <- X.colnames[unlist(coef)]\n",
    "# Variables selected by LASSO:\n",
    "H"
   ]
  },
  {
   "cell_type": "markdown",
   "metadata": {},
   "source": [
    "## Use LASSO of W on X to select K"
   ]
  },
  {
   "cell_type": "code",
   "execution_count": 14,
   "metadata": {
    "collapsed": false
   },
   "outputs": [
    {
     "data": {
      "text/html": [
       "<ol class=list-inline>\n",
       "\t<li>'V2'</li>\n",
       "\t<li>'V80'</li>\n",
       "\t<li>'V81'</li>\n",
       "\t<li>'V1049'</li>\n",
       "</ol>\n"
      ],
      "text/latex": [
       "\\begin{enumerate*}\n",
       "\\item 'V2'\n",
       "\\item 'V80'\n",
       "\\item 'V81'\n",
       "\\item 'V1049'\n",
       "\\end{enumerate*}\n"
      ],
      "text/markdown": [
       "1. 'V2'\n",
       "2. 'V80'\n",
       "3. 'V81'\n",
       "4. 'V1049'\n",
       "\n",
       "\n"
      ],
      "text/plain": [
       "[1] \"V2\"    \"V80\"   \"V81\"   \"V1049\""
      ]
     },
     "metadata": {},
     "output_type": "display_data"
    }
   ],
   "source": [
    "lasso.fit.propensity <- cv.glmnet(data.matrix(X), df$W, alpha=1)\n",
    "\n",
    "coef <- predict(lasso.fit.propensity, type = \"nonzero\")\n",
    "K <- X.colnames[unlist(coef)]\n",
    "# Variables selected by LASSO:\n",
    "K"
   ]
  },
  {
   "cell_type": "markdown",
   "metadata": {},
   "source": [
    "## Perform RDD of Y on W, Controlling for $H \\cup K$"
   ]
  },
  {
   "cell_type": "code",
   "execution_count": 15,
   "metadata": {
    "collapsed": false
   },
   "outputs": [
    {
     "data": {
      "text/html": [
       "<ol class=list-inline>\n",
       "\t<li>'V2'</li>\n",
       "\t<li>'V3'</li>\n",
       "\t<li>'V4'</li>\n",
       "\t<li>'V5'</li>\n",
       "\t<li>'V6'</li>\n",
       "\t<li>'V8'</li>\n",
       "\t<li>'V9'</li>\n",
       "\t<li>'V10'</li>\n",
       "\t<li>'V11'</li>\n",
       "\t<li>'V12'</li>\n",
       "\t<li>'V13'</li>\n",
       "\t<li>'V14'</li>\n",
       "\t<li>'V15'</li>\n",
       "\t<li>'V16'</li>\n",
       "\t<li>'V18'</li>\n",
       "\t<li>'V19'</li>\n",
       "\t<li>'V20'</li>\n",
       "\t<li>'V21'</li>\n",
       "\t<li>'V22'</li>\n",
       "\t<li>'V23'</li>\n",
       "\t<li>'V24'</li>\n",
       "\t<li>'V25'</li>\n",
       "\t<li>'V26'</li>\n",
       "\t<li>'V27'</li>\n",
       "\t<li>'V28'</li>\n",
       "\t<li>'V29'</li>\n",
       "\t<li>'V30'</li>\n",
       "\t<li>'V80'</li>\n",
       "\t<li>'V81'</li>\n",
       "\t<li>'V304'</li>\n",
       "\t<li>'V745'</li>\n",
       "\t<li>'V1049'</li>\n",
       "</ol>\n"
      ],
      "text/latex": [
       "\\begin{enumerate*}\n",
       "\\item 'V2'\n",
       "\\item 'V3'\n",
       "\\item 'V4'\n",
       "\\item 'V5'\n",
       "\\item 'V6'\n",
       "\\item 'V8'\n",
       "\\item 'V9'\n",
       "\\item 'V10'\n",
       "\\item 'V11'\n",
       "\\item 'V12'\n",
       "\\item 'V13'\n",
       "\\item 'V14'\n",
       "\\item 'V15'\n",
       "\\item 'V16'\n",
       "\\item 'V18'\n",
       "\\item 'V19'\n",
       "\\item 'V20'\n",
       "\\item 'V21'\n",
       "\\item 'V22'\n",
       "\\item 'V23'\n",
       "\\item 'V24'\n",
       "\\item 'V25'\n",
       "\\item 'V26'\n",
       "\\item 'V27'\n",
       "\\item 'V28'\n",
       "\\item 'V29'\n",
       "\\item 'V30'\n",
       "\\item 'V80'\n",
       "\\item 'V81'\n",
       "\\item 'V304'\n",
       "\\item 'V745'\n",
       "\\item 'V1049'\n",
       "\\end{enumerate*}\n"
      ],
      "text/markdown": [
       "1. 'V2'\n",
       "2. 'V3'\n",
       "3. 'V4'\n",
       "4. 'V5'\n",
       "5. 'V6'\n",
       "6. 'V8'\n",
       "7. 'V9'\n",
       "8. 'V10'\n",
       "9. 'V11'\n",
       "10. 'V12'\n",
       "11. 'V13'\n",
       "12. 'V14'\n",
       "13. 'V15'\n",
       "14. 'V16'\n",
       "15. 'V18'\n",
       "16. 'V19'\n",
       "17. 'V20'\n",
       "18. 'V21'\n",
       "19. 'V22'\n",
       "20. 'V23'\n",
       "21. 'V24'\n",
       "22. 'V25'\n",
       "23. 'V26'\n",
       "24. 'V27'\n",
       "25. 'V28'\n",
       "26. 'V29'\n",
       "27. 'V30'\n",
       "28. 'V80'\n",
       "29. 'V81'\n",
       "30. 'V304'\n",
       "31. 'V745'\n",
       "32. 'V1049'\n",
       "\n",
       "\n"
      ],
      "text/plain": [
       " [1] \"V2\"    \"V3\"    \"V4\"    \"V5\"    \"V6\"    \"V8\"    \"V9\"    \"V10\"   \"V11\"  \n",
       "[10] \"V12\"   \"V13\"   \"V14\"   \"V15\"   \"V16\"   \"V18\"   \"V19\"   \"V20\"   \"V21\"  \n",
       "[19] \"V22\"   \"V23\"   \"V24\"   \"V25\"   \"V26\"   \"V27\"   \"V28\"   \"V29\"   \"V30\"  \n",
       "[28] \"V80\"   \"V81\"   \"V304\"  \"V745\"  \"V1049\""
      ]
     },
     "metadata": {},
     "output_type": "display_data"
    },
    {
     "name": "stdout",
     "output_type": "stream",
     "text": [
      "\n",
      "Call:\n",
      "RDestimate(formula = eq.H_union_K, data = df)\n",
      "\n",
      "Type:\n",
      "sharp \n",
      "\n",
      "Estimates:\n",
      "           Bandwidth  Observations  Estimate  Std. Error  z value  Pr(>|z|) \n",
      "LATE       2.081      345           1.422     0.2914      4.881    1.054e-06\n",
      "Half-BW    1.041      180           1.636     0.4205      3.891    9.963e-05\n",
      "Double-BW  4.163      628           1.246     0.2196      5.673    1.406e-08\n",
      "              \n",
      "LATE       ***\n",
      "Half-BW    ***\n",
      "Double-BW  ***\n",
      "---\n",
      "Signif. codes:  0 '***' 0.001 '**' 0.01 '*' 0.05 '.' 0.1 ' ' 1\n",
      "\n",
      "F-statistics:\n",
      "           F      Num. DoF  Denom. DoF  p\n",
      "LATE       18314  35        309         0\n",
      "Half-BW     9944  35        144         0\n",
      "Double-BW  35587  35        592         0\n"
     ]
    }
   ],
   "source": [
    "# Union of selected variables:\n",
    "H_union_K.names <- unique(c(H, K))\n",
    "H_union_K.names\n",
    "sum.H_union_K <- paste(H_union_K.names, collapse = \" + \")\n",
    "eq.H_union_K <- paste(\"Y ~ W | \", sum.H_union_K)\n",
    "\n",
    "# RDD, using all covariates selected by double selection\n",
    "fit <- RDestimate(eq.H_union_K, data = df)\n",
    "summary(fit)"
   ]
  },
  {
   "cell_type": "code",
   "execution_count": null,
   "metadata": {
    "collapsed": true
   },
   "outputs": [],
   "source": []
  }
 ],
 "metadata": {
  "kernelspec": {
   "display_name": "R",
   "language": "R",
   "name": "ir"
  },
  "language_info": {
   "codemirror_mode": "r",
   "file_extension": ".r",
   "mimetype": "text/x-r-source",
   "name": "R",
   "pygments_lexer": "r",
   "version": "3.4.2"
  }
 },
 "nbformat": 4,
 "nbformat_minor": 2
}
